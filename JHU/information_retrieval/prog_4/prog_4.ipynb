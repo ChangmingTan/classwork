{
 "cells": [
  {
   "cell_type": "markdown",
   "metadata": {},
   "source": [
    "# Programming Assignment 4\n",
    "## 605.744 Information Retrieval\n",
    "### Justin Ely"
   ]
  },
  {
   "cell_type": "code",
   "execution_count": 1,
   "metadata": {},
   "outputs": [],
   "source": [
    "import pandas as pd\n",
    "import matplotlib.pyplot as plt\n",
    "import numpy as np\n",
    "\n",
    "from sklearn import svm\n",
    "from sklearn.feature_extraction.text import CountVectorizer\n",
    "\n",
    "from sklearn.naive_bayes import MultinomialNB, BernoulliNB\n",
    "from sklearn.feature_extraction.text import TfidfTransformer\n",
    "from sklearn.feature_extraction.text import TfidfVectorizer"
   ]
  },
  {
   "cell_type": "code",
   "execution_count": 124,
   "metadata": {
    "collapsed": true
   },
   "outputs": [],
   "source": [
    "def concat(*args):\n",
    "    \"\"\" Concatenate any numer of input streams \"\"\"\n",
    "    items = []\n",
    "    \n",
    "    for item in args:\n",
    "        if isinstance(item, str):\n",
    "            items.append(item)\n",
    "            \n",
    "    return ' '.join(items)"
   ]
  },
  {
   "cell_type": "code",
   "execution_count": 47,
   "metadata": {},
   "outputs": [],
   "source": [
    "#-----------------------------------------------------------------------------------------\n",
    "\n",
    "def precision(predicted, truth, verbose=True):\n",
    "    \"\"\" Calculate precision of predicted values \"\"\"\n",
    "    total = 0\n",
    "    correct = 0\n",
    "    \n",
    "    for p, t in zip(predicted, truth):\n",
    "        if p == 1:\n",
    "            total += 1\n",
    "            \n",
    "            if t == 1:\n",
    "                correct += 1\n",
    "\n",
    "    if verbose:\n",
    "        print(\"Precision {}/{} = {}\".format(correct, total, correct/total))\n",
    "    \n",
    "    return correct/total\n",
    "                \n",
    "#-----------------------------------------------------------------------------------------\n",
    "    \n",
    "def recall(predicted, truth, verbose=True):\n",
    "    \"\"\" Calculate recal of predicted values \"\"\"\n",
    "    total = 0\n",
    "    correct = 0\n",
    "    \n",
    "    for p, t in zip(predicted, truth):\n",
    "        if t == 1:\n",
    "            total += 1\n",
    "            \n",
    "            if p == 1:\n",
    "                correct += 1\n",
    "    if verbose:\n",
    "        print(\"Recal {}/{} = {}\".format(correct, total, correct/total))\n",
    "    \n",
    "    return correct/total\n",
    "\n",
    "#-----------------------------------------------------------------------------------------\n",
    "        \n",
    "def f1(predicted, truth):\n",
    "    \"\"\" Calculate F1 score \"\"\"\n",
    "    p = precision(predicted, truth, False)\n",
    "    r = recall(predicted, truth, False)\n",
    "    \n",
    "    return 2*p*r/(p+r)\n",
    "\n",
    "#-----------------------------------------------------------------------------------------"
   ]
  },
  {
   "cell_type": "markdown",
   "metadata": {},
   "source": [
    "### Data loading\n",
    "\n",
    "Here we load the supplied data for initial training, development, and final testing.  We use the pandas library to parse the TSV files and load them each into separate dataframes"
   ]
  },
  {
   "cell_type": "code",
   "execution_count": 2,
   "metadata": {
    "collapsed": true
   },
   "outputs": [],
   "source": [
    "train = pd.read_csv('phase1.train.shuf.tsv',\n",
    "                   sep='\\t',\n",
    "                   header=None,\n",
    "                   names=[\"assessment\", \"docid\", \"title\", \"authors\", \"journal\", \"issn\", \"year\", \"language\", \"abstract\", \"keywords\"])"
   ]
  },
  {
   "cell_type": "code",
   "execution_count": 3,
   "metadata": {
    "collapsed": true
   },
   "outputs": [],
   "source": [
    "dev = pd.read_csv('phase1.dev.shuf.tsv',\n",
    "                   sep='\\t',\n",
    "                   header=None,\n",
    "                   names=[\"assessment\", \"docid\", \"title\", \"authors\", \"journal\", \"issn\", \"year\", \"language\", \"abstract\", \"keywords\"])"
   ]
  },
  {
   "cell_type": "code",
   "execution_count": 140,
   "metadata": {
    "collapsed": true
   },
   "outputs": [],
   "source": [
    "test = pd.read_csv('phase1.test.shuf.tsv',\n",
    "                   sep='\\t',\n",
    "                   header=None,\n",
    "                   names=[\"assessment\", \"docid\", \"title\", \"authors\", \"journal\", \"issn\", \"year\", \"language\", \"abstract\", \"keywords\"])"
   ]
  },
  {
   "cell_type": "code",
   "execution_count": 49,
   "metadata": {},
   "outputs": [],
   "source": [
    "#vectorizer = TfidfVectorizer(sublinear_tf=True, max_df=0.5, stop_words='english')\n",
    "#all_abs = [item if isinstance(item, str) else '' for item in train['title']]\n",
    "#train_counts = vectorizer.fit_transform(all_abs)"
   ]
  },
  {
   "cell_type": "code",
   "execution_count": 7,
   "metadata": {},
   "outputs": [
    {
     "name": "stdout",
     "output_type": "stream",
     "text": [
      "  (0, 2937)\t1\n",
      "  (0, 5316)\t1\n",
      "  (0, 7586)\t1\n",
      "  (0, 8059)\t2\n",
      "  (0, 9061)\t1\n",
      "  (0, 10792)\t1\n",
      "  (0, 11906)\t1\n",
      "  (0, 12570)\t1\n"
     ]
    }
   ],
   "source": [
    "dev_text = vectorizer.transform(dev['title'])\n",
    "print(dev_text[0])"
   ]
  },
  {
   "cell_type": "code",
   "execution_count": 165,
   "metadata": {},
   "outputs": [
    {
     "name": "stdout",
     "output_type": "stream",
     "text": [
      "SVC(C=1.0, cache_size=200, class_weight=None, coef0=0.0,\n",
      "  decision_function_shape='ovr', degree=3, gamma='auto', kernel='rbf',\n",
      "  max_iter=-1, probability=False, random_state=None, shrinking=True,\n",
      "  tol=0.001, verbose=False)\n"
     ]
    }
   ],
   "source": [
    "clf = svm.SVC().fit(train_counts, train['assessment'])\n",
    "print(clf)"
   ]
  },
  {
   "cell_type": "code",
   "execution_count": 168,
   "metadata": {},
   "outputs": [
    {
     "data": {
      "text/plain": [
       "array([], dtype=int64)"
      ]
     },
     "execution_count": 168,
     "metadata": {},
     "output_type": "execute_result"
    }
   ],
   "source": [
    "preds = clf.predict(dev_text)\n",
    "preds[preds>0]"
   ]
  },
  {
   "cell_type": "markdown",
   "metadata": {},
   "source": [
    "## Bayes"
   ]
  },
  {
   "cell_type": "markdown",
   "metadata": {},
   "source": [
    "#### Title Data"
   ]
  },
  {
   "cell_type": "code",
   "execution_count": 50,
   "metadata": {
    "collapsed": true
   },
   "outputs": [],
   "source": [
    "vectorizer = CountVectorizer()\n",
    "train_counts = vectorizer.fit_transform(train['title'])"
   ]
  },
  {
   "cell_type": "code",
   "execution_count": 59,
   "metadata": {},
   "outputs": [
    {
     "name": "stdout",
     "output_type": "stream",
     "text": [
      "BernoulliNB(alpha=0.001, binarize=0.0, class_prior=None, fit_prior=True)\n"
     ]
    }
   ],
   "source": [
    "#clf = MultinomialNB().fit(train_counts, train['assessment'])\n",
    "clf = BernoulliNB(alpha=.001).fit(train_counts, train['assessment'])"
   ]
  },
  {
   "cell_type": "code",
   "execution_count": 60,
   "metadata": {},
   "outputs": [
    {
     "name": "stdout",
     "output_type": "stream",
     "text": [
      "Recal 633/695 = 0.9107913669064748\n",
      "Precision 633/1069 = 0.5921421889616464\n"
     ]
    },
    {
     "data": {
      "text/plain": [
       "0.717687074829932"
      ]
     },
     "execution_count": 60,
     "metadata": {},
     "output_type": "execute_result"
    }
   ],
   "source": [
    "preds = clf.predict(train_counts)\n",
    "\n",
    "recall(preds, train['assessment'])\n",
    "precision(preds, train['assessment'])\n",
    "f1(preds, train['assessment'])"
   ]
  },
  {
   "cell_type": "code",
   "execution_count": 80,
   "metadata": {},
   "outputs": [
    {
     "name": "stdout",
     "output_type": "stream",
     "text": [
      "Recal 25/150 = 0.16666666666666666\n",
      "Precision 25/39 = 0.6410256410256411\n"
     ]
    },
    {
     "data": {
      "text/plain": [
       "0.2645502645502646"
      ]
     },
     "execution_count": 80,
     "metadata": {},
     "output_type": "execute_result"
    }
   ],
   "source": [
    "dev_text = vectorizer.transform(dev['title'])\n",
    "preds = clf.predict(dev_text)\n",
    "\n",
    "recall(preds, dev['assessment'])\n",
    "precision(preds, dev['assessment'])\n",
    "f1(preds, dev['assessment'])"
   ]
  },
  {
   "cell_type": "code",
   "execution_count": 181,
   "metadata": {},
   "outputs": [
    {
     "data": {
      "text/plain": [
       "array([-1])"
      ]
     },
     "execution_count": 181,
     "metadata": {},
     "output_type": "execute_result"
    }
   ],
   "source": [
    "clf.predict(vectorizer.transform([train.iloc[133]['abstract']]))"
   ]
  },
  {
   "cell_type": "markdown",
   "metadata": {},
   "source": [
    "### Title + Abstract + Keywords"
   ]
  },
  {
   "cell_type": "code",
   "execution_count": 133,
   "metadata": {},
   "outputs": [],
   "source": [
    "train_data = [concat(*item) for item in zip(train['title'], train['abstract'], train['keywords'])]\n",
    "\n",
    "vectorizer = CountVectorizer()\n",
    "train_counts = vectorizer.fit_transform(train_data)\n",
    "\n",
    "clf = BernoulliNB(alpha=.001).fit(train_counts, train['assessment'])"
   ]
  },
  {
   "cell_type": "code",
   "execution_count": 134,
   "metadata": {},
   "outputs": [
    {
     "name": "stdout",
     "output_type": "stream",
     "text": [
      "Recal 61/150 = 0.4066666666666667\n",
      "Precision 61/158 = 0.3860759493670886\n"
     ]
    },
    {
     "data": {
      "text/plain": [
       "0.3961038961038961"
      ]
     },
     "execution_count": 134,
     "metadata": {},
     "output_type": "execute_result"
    }
   ],
   "source": [
    "train_data = [concat(*item) for item in zip(dev['title'] + dev['abstract'] + dev['keywords'])]\n",
    "dev_text = vectorizer.transform(train_data)\n",
    "preds = clf.predict(dev_text)\n",
    "\n",
    "recall(preds, dev['assessment'])\n",
    "precision(preds, dev['assessment'])\n",
    "f1(preds, dev['assessment'])"
   ]
  },
  {
   "cell_type": "markdown",
   "metadata": {},
   "source": [
    "## SVM"
   ]
  },
  {
   "cell_type": "code",
   "execution_count": 86,
   "metadata": {
    "collapsed": true
   },
   "outputs": [],
   "source": [
    "vectorizer = CountVectorizer()\n",
    "train_counts = vectorizer.fit_transform(train['title'])\n",
    "\n",
    "#vectorizer = TfidfVectorizer(sublinear_tf=True, max_df=0.5, stop_words='english')\n",
    "#all_abs = [item if isinstance(item, str) else '' for item in train['title']]\n",
    "#train_counts = vectorizer.fit_transform(train['title'])"
   ]
  },
  {
   "cell_type": "code",
   "execution_count": 96,
   "metadata": {},
   "outputs": [
    {
     "name": "stdout",
     "output_type": "stream",
     "text": [
      "LinearSVC(C=1, class_weight=None, dual=True, fit_intercept=True,\n",
      "     intercept_scaling=1, loss='squared_hinge', max_iter=1000,\n",
      "     multi_class='ovr', penalty='l2', random_state=None, tol=0.0001,\n",
      "     verbose=0)\n"
     ]
    }
   ],
   "source": [
    "clf = svm.LinearSVC(C=1).fit(train_counts, train['assessment'])\n",
    "print(clf)"
   ]
  },
  {
   "cell_type": "code",
   "execution_count": 97,
   "metadata": {},
   "outputs": [
    {
     "name": "stdout",
     "output_type": "stream",
     "text": [
      "Recal 605/695 = 0.8705035971223022\n",
      "Precision 605/616 = 0.9821428571428571\n"
     ]
    },
    {
     "data": {
      "text/plain": [
       "0.9229595728451564"
      ]
     },
     "execution_count": 97,
     "metadata": {},
     "output_type": "execute_result"
    }
   ],
   "source": [
    "preds = clf.predict(train_counts)\n",
    "\n",
    "recall(preds, train['assessment'])\n",
    "precision(preds, train['assessment'])\n",
    "f1(preds, train['assessment'])"
   ]
  },
  {
   "cell_type": "code",
   "execution_count": 98,
   "metadata": {},
   "outputs": [
    {
     "name": "stdout",
     "output_type": "stream",
     "text": [
      "Recal 41/150 = 0.2733333333333333\n",
      "Precision 41/110 = 0.37272727272727274\n"
     ]
    },
    {
     "data": {
      "text/plain": [
       "0.3153846153846154"
      ]
     },
     "execution_count": 98,
     "metadata": {},
     "output_type": "execute_result"
    }
   ],
   "source": [
    "dev_text = vectorizer.transform(dev['title'])\n",
    "preds = clf.predict(dev_text)\n",
    "\n",
    "recall(preds, dev['assessment'])\n",
    "precision(preds, dev['assessment'])\n",
    "f1(preds, dev['assessment'])"
   ]
  },
  {
   "cell_type": "code",
   "execution_count": null,
   "metadata": {
    "collapsed": true
   },
   "outputs": [],
   "source": []
  }
 ],
 "metadata": {
  "kernelspec": {
   "display_name": "Python 3",
   "language": "python",
   "name": "python3"
  },
  "language_info": {
   "codemirror_mode": {
    "name": "ipython",
    "version": 3
   },
   "file_extension": ".py",
   "mimetype": "text/x-python",
   "name": "python",
   "nbconvert_exporter": "python",
   "pygments_lexer": "ipython3",
   "version": "3.6.2"
  }
 },
 "nbformat": 4,
 "nbformat_minor": 2
}

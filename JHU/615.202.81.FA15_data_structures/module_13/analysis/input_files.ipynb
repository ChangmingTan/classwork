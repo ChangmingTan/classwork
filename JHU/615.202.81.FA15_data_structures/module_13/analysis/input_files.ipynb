{
 "cells": [
  {
   "cell_type": "code",
   "execution_count": 1,
   "metadata": {
    "collapsed": true
   },
   "outputs": [],
   "source": [
    "import numpy as np\n",
    "from random import random"
   ]
  },
  {
   "cell_type": "code",
   "execution_count": 5,
   "metadata": {
    "collapsed": true
   },
   "outputs": [],
   "source": [
    "sizes = [50, 500, 1000, 2000, 5000, 10000, 50000, 100000, 1000000]"
   ]
  },
  {
   "cell_type": "code",
   "execution_count": 6,
   "metadata": {
    "collapsed": true
   },
   "outputs": [],
   "source": [
    "def write(sequence, name):\n",
    "    with open(name, 'w') as out:\n",
    "        for val in sequence:\n",
    "            out.write(\"{}\\n\".format(val))    \n",
    "\n",
    "def gen_rand(size, name):\n",
    "    data = np.arange(size)\n",
    "    np.random.shuffle(data)\n",
    "    write(data, name)\n",
    "\n",
    "def gen_rev(size, name):\n",
    "    write(np.arange(size)[::-1], name)\n",
    "    \n",
    "def gen_order(size, name):\n",
    "    write(np.arange(size), name)"
   ]
  },
  {
   "cell_type": "code",
   "execution_count": 7,
   "metadata": {
    "collapsed": false
   },
   "outputs": [],
   "source": [
    "for size in sizes:\n",
    "    gen_rand(size, \"../input/random_{}.txt\".format(size))\n",
    "\n",
    "    gen_rev(size, \"../input/reverse_{}.txt\".format(size))\n",
    "    \n",
    "    gen_order(size, \"../input/order_{}.txt\".format(size))"
   ]
  },
  {
   "cell_type": "code",
   "execution_count": 1,
   "metadata": {
    "collapsed": false
   },
   "outputs": [
    {
     "name": "stdout",
     "output_type": "stream",
     "text": [
      "Reading file ../input/order_10000000.txt\r\n",
      "Found 10000000 items to be sorted.\r\n",
      "heap on 10000000 items took 695891282ns to calculate\r\n",
      "Writin to file: ../output/order_10000000.txt\r\n",
      "Reading file ../input/order_1000000.txt\r\n",
      "Found 1000000 items to be sorted.\r\n",
      "heap on 1000000 items took 69199389ns to calculate\r\n",
      "Writin to file: ../output/order_1000000.txt\r\n",
      "Reading file ../input/order_100000.txt\r\n",
      "Found 100000 items to be sorted.\r\n",
      "heap on 100000 items took 14599626ns to calculate\r\n",
      "Writin to file: ../output/order_100000.txt\r\n",
      "Reading file ../input/order_10000.txt\r\n",
      "Found 10000 items to be sorted.\r\n",
      "heap on 10000 items took 14461499ns to calculate\r\n",
      "Writin to file: ../output/order_10000.txt\r\n",
      "Reading file ../input/order_1000.txt\r\n",
      "Found 1000 items to be sorted.\r\n",
      "heap on 1000 items took 1089812ns to calculate\r\n",
      "Writin to file: ../output/order_1000.txt\r\n",
      "Reading file ../input/order_2000.txt\r\n",
      "Found 2000 items to be sorted.\r\n",
      "heap on 2000 items took 2177735ns to calculate\r\n",
      "Writin to file: ../output/order_2000.txt\r\n",
      "Reading file ../input/order_50000.txt\r\n",
      "Found 50000 items to be sorted.\r\n",
      "heap on 50000 items took 9318211ns to calculate\r\n",
      "Writin to file: ../output/order_50000.txt\r\n",
      "Reading file ../input/order_5000.txt\r\n",
      "Found 5000 items to be sorted.\r\n",
      "heap on 5000 items took 5300161ns to calculate\r\n",
      "Writin to file: ../output/order_5000.txt\r\n",
      "Reading file ../input/order_500.txt\r\n",
      "Found 500 items to be sorted.\r\n",
      "heap on 500 items took 686171ns to calculate\r\n",
      "Writin to file: ../output/order_500.txt\r\n",
      "Reading file ../input/order_50.txt\r\n",
      "Found 50 items to be sorted.\r\n",
      "heap on 50 items took 248881ns to calculate\r\n",
      "Writin to file: ../output/order_50.txt\r\n",
      "Reading file ../input/random_10000000.txt\r\n",
      "Found 10000000 items to be sorted.\r\n",
      "heap on 10000000 items took 1902801435ns to calculate\r\n",
      "Writin to file: ../output/random_10000000.txt\r\n",
      "Reading file ../input/random_1000000.txt\r\n"
     ]
    }
   ],
   "source": [
    "cat heap_times.txt"
   ]
  },
  {
   "cell_type": "code",
   "execution_count": null,
   "metadata": {
    "collapsed": true
   },
   "outputs": [],
   "source": []
  }
 ],
 "metadata": {
  "kernelspec": {
   "display_name": "Python 3",
   "language": "python",
   "name": "python3"
  },
  "language_info": {
   "codemirror_mode": {
    "name": "ipython",
    "version": 3
   },
   "file_extension": ".py",
   "mimetype": "text/x-python",
   "name": "python",
   "nbconvert_exporter": "python",
   "pygments_lexer": "ipython3",
   "version": "3.4.3"
  }
 },
 "nbformat": 4,
 "nbformat_minor": 0
}

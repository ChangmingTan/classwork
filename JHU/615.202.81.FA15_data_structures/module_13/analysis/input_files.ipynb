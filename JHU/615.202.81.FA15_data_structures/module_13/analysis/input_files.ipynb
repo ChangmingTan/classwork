{
 "cells": [
  {
   "cell_type": "code",
   "execution_count": 1,
   "metadata": {
    "collapsed": true
   },
   "outputs": [],
   "source": [
    "import numpy as np\n",
    "from random import random"
   ]
  },
  {
   "cell_type": "code",
   "execution_count": 5,
   "metadata": {
    "collapsed": true
   },
   "outputs": [],
   "source": [
    "sizes = [50, 500, 1000, 2000, 5000, 10000, 50000, 100000, 1000000, 10000000]"
   ]
  },
  {
   "cell_type": "code",
   "execution_count": 6,
   "metadata": {
    "collapsed": true
   },
   "outputs": [],
   "source": [
    "def write(sequence, name):\n",
    "    with open(name, 'w') as out:\n",
    "        for val in sequence:\n",
    "            out.write(\"{}\\n\".format(val))    \n",
    "\n",
    "def gen_rand(size, name):\n",
    "    data = np.arange(size)\n",
    "    np.random.shuffle(data)\n",
    "    write(data, name)\n",
    "\n",
    "def gen_rev(size, name):\n",
    "    write(np.arange(size)[::-1], name)\n",
    "    \n",
    "def gen_order(size, name):\n",
    "    write(np.arange(size), name)"
   ]
  },
  {
   "cell_type": "code",
   "execution_count": 7,
   "metadata": {
    "collapsed": false
   },
   "outputs": [],
   "source": [
    "for size in sizes:\n",
    "    gen_rand(size, \"../input/random_{}.txt\".format(size))\n",
    "\n",
    "    gen_rev(size, \"../input/reverse_{}.txt\".format(size))\n",
    "    \n",
    "    gen_order(size, \"../input/order_{}.txt\".format(size))"
   ]
  },
  {
   "cell_type": "code",
   "execution_count": 11,
   "metadata": {
    "collapsed": true
   },
   "outputs": [],
   "source": []
  },
  {
   "cell_type": "code",
   "execution_count": null,
   "metadata": {
    "collapsed": true
   },
   "outputs": [],
   "source": []
  }
 ],
 "metadata": {
  "kernelspec": {
   "display_name": "Python 3",
   "language": "python",
   "name": "python3"
  },
  "language_info": {
   "codemirror_mode": {
    "name": "ipython",
    "version": 3
   },
   "file_extension": ".py",
   "mimetype": "text/x-python",
   "name": "python",
   "nbconvert_exporter": "python",
   "pygments_lexer": "ipython3",
   "version": "3.4.3"
  }
 },
 "nbformat": 4,
 "nbformat_minor": 0
}

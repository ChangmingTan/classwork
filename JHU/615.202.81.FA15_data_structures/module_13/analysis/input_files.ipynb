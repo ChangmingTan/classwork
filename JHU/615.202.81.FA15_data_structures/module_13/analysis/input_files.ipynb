{
 "cells": [
  {
   "cell_type": "code",
   "execution_count": 1,
   "metadata": {
    "collapsed": false
   },
   "outputs": [],
   "source": [
    "import numpy as np\n",
    "from random import random\n",
    "import glob\n",
    "import os\n",
    "import sys\n",
    "\n",
    "from astropy.table import Table\n",
    "\n",
    "import seaborn as sns\n",
    "import matplotlib.pyplot as plt"
   ]
  },
  {
   "cell_type": "code",
   "execution_count": 2,
   "metadata": {
    "collapsed": true
   },
   "outputs": [],
   "source": [
    "%matplotlib inline"
   ]
  },
  {
   "cell_type": "code",
   "execution_count": 3,
   "metadata": {
    "collapsed": true
   },
   "outputs": [],
   "source": [
    "sizes = [50, 500, 1000, 2000, 5000, 10000, 50000, 100000, 500000, 1000000, 5000000]"
   ]
  },
  {
   "cell_type": "code",
   "execution_count": 120,
   "metadata": {
    "collapsed": true
   },
   "outputs": [],
   "source": [
    "def write(sequence, name):\n",
    "    with open(name, 'w') as out:\n",
    "        for val in sequence:\n",
    "            out.write(\"{}\\n\".format(val))    \n",
    "\n",
    "def gen_rand(size, name):\n",
    "    data = np.arange(size)\n",
    "    np.random.shuffle(data)\n",
    "    write(data, name)\n",
    "\n",
    "def gen_rev(size, name):\n",
    "    write(np.arange(size)[::-1], name)\n",
    "    \n",
    "def gen_order(size, name):\n",
    "    write(np.arange(size), name)\n",
    "    \n",
    "def gen_repeat(size, name):\n",
    "    write(np.tile(np.arange(size/10), 10).astype(int), name)"
   ]
  },
  {
   "cell_type": "code",
   "execution_count": 121,
   "metadata": {
    "collapsed": false
   },
   "outputs": [],
   "source": [
    "for size in sizes:\n",
    "    gen_rand(size, \"../input/random_{}.txt\".format(size))\n",
    "\n",
    "    gen_rev(size, \"../input/reverse_{}.txt\".format(size))\n",
    "    \n",
    "    gen_order(size, \"../input/order_{}.txt\".format(size))\n",
    "    \n",
    "    gen_repeat(size, \"../input/fewunique_{}.txt\".format(size))"
   ]
  },
  {
   "cell_type": "markdown",
   "metadata": {
    "collapsed": true
   },
   "source": [
    "## Analyze times"
   ]
  },
  {
   "cell_type": "code",
   "execution_count": 155,
   "metadata": {
    "collapsed": true
   },
   "outputs": [],
   "source": [
    "def exp_func(x, a, b, c):\n",
    "    return a*10**(b*np.array(x)) + c"
   ]
  },
  {
   "cell_type": "code",
   "execution_count": 3,
   "metadata": {
    "collapsed": true
   },
   "outputs": [],
   "source": [
    "def parse_file(filename):\n",
    "    sizes = []\n",
    "    times = []\n",
    "    order = []\n",
    "    \n",
    "    for line in open(filename).readlines():\n",
    "        if line.strip().endswith('calculate'):\n",
    "            line = line.strip().split(' ')\n",
    "            order.append(line[2].split('/')[-1].split('_')[0])\n",
    "            sizes.append(int(line[4]))\n",
    "            times.append(float(line[7][:-2])/ 10**9)\n",
    "    \n",
    "    return order, sizes,times"
   ]
  },
  {
   "cell_type": "code",
   "execution_count": 4,
   "metadata": {
    "collapsed": false
   },
   "outputs": [
    {
     "name": "stdout",
     "output_type": "stream",
     "text": [
      "#--------------------------#\r\n",
      "#-- Starting file sorter --#\r\n",
      "#--------------------------#\r\n",
      "  Reading file ../input/fewunique_1000.txt\r\n",
      "  Found 1000 items to be sorted.\r\n",
      "  insertionsort on ../input/fewunique_1000.txt with 1000 items took 3515000ns to calculate\r\n",
      "  Writing output to file: ../output/fewunique_1000.txt\r\n",
      "#--------------------------#\r\n",
      "#-- Starting file sorter --#\r\n",
      "#--------------------------#\r\n",
      "  Reading file ../input/fewunique_10000.txt\r\n",
      "  Found 10000 items to be sorted.\r\n",
      "  insertionsort on ../input/fewunique_10000.txt with 10000 items took 32895000ns to calculate\r\n",
      "  Writing output to file: ../output/fewunique_10000.txt\r\n",
      "#--------------------------#\r\n",
      "#-- Starting file sorter --#\r\n",
      "#--------------------------#\r\n",
      "  Reading file ../input/fewunique_100000.txt\r\n",
      "  Found 100000 items to be sorted.\r\n",
      "  insertionsort on ../input/fewunique_100000.txt with 100000 items took 1873285000ns to calculate\r\n",
      "  Writing output to file: ../output/fewunique_100000.txt\r\n",
      "#--------------------------#\r\n",
      "#-- Starting file sorter --#\r\n",
      "#--------------------------#\r\n",
      "  Reading file ../input/fewunique_1000000.txt\r\n",
      "  Found 1000000 items to be sorted.\r\n",
      "  insertionsort on ../input/fewunique_1000000.txt with 1000000 items took 124794486000ns to calculate\r\n",
      "  Writing output to file: ../output/fewunique_1000000.txt\r\n",
      "#--------------------------#\r\n",
      "#-- Starting file sorter --#\r\n",
      "#--------------------------#\r\n",
      "  Reading file ../input/fewunique_2000.txt\r\n",
      "  Found 2000 items to be sorted.\r\n",
      "  insertionsort on ../input/fewunique_2000.txt with 2000 items took 3857000ns to calculate\r\n",
      "  Writing output to file: ../output/fewunique_2000.txt\r\n",
      "#--------------------------#\r\n",
      "#-- Starting file sorter --#\r\n",
      "#--------------------------#\r\n",
      "  Reading file ../input/fewunique_50.txt\r\n",
      "  Found 50 items to be sorted.\r\n",
      "  insertionsort on ../input/fewunique_50.txt with 50 items took 310000ns to calculate\r\n",
      "  Writing output to file: ../output/fewunique_50.txt\r\n",
      "#--------------------------#\r\n",
      "#-- Starting file sorter --#\r\n",
      "#--------------------------#\r\n",
      "  Reading file ../input/fewunique_500.txt\r\n",
      "  Found 500 items to be sorted.\r\n",
      "  insertionsort on ../input/fewunique_500.txt with 500 items took 1428000ns to calculate\r\n",
      "  Writing output to file: ../output/fewunique_500.txt\r\n",
      "#--------------------------#\r\n",
      "#-- Starting file sorter --#\r\n",
      "#--------------------------#\r\n",
      "  Reading file ../input/fewunique_5000.txt\r\n",
      "  Found 5000 items to be sorted.\r\n",
      "  insertionsort on ../input/fewunique_5000.txt with 5000 items took 9358000ns to calculate\r\n",
      "  Writing output to file: ../output/fewunique_5000.txt\r\n",
      "#--------------------------#\r\n",
      "#-- Starting file sorter --#\r\n",
      "#--------------------------#\r\n",
      "  Reading file ../input/fewunique_50000.txt\r\n",
      "  Found 50000 items to be sorted.\r\n",
      "  insertionsort on ../input/fewunique_50000.txt with 50000 items took 218130000ns to calculate\r\n",
      "  Writing output to file: ../output/fewunique_50000.txt\r\n",
      "#--------------------------#\r\n",
      "#-- Starting file sorter --#\r\n",
      "#--------------------------#\r\n",
      "  Reading file ../input/order_1000.txt\r\n",
      "  Found 1000 items to be sorted.\r\n",
      "  insertionsort on ../input/order_1000.txt with 1000 items took 346000ns to calculate\r\n",
      "  Writing output to file: ../output/order_1000.txt\r\n",
      "#--------------------------#\r\n",
      "#-- Starting file sorter --#\r\n",
      "#--------------------------#\r\n",
      "  Reading file ../input/order_10000.txt\r\n",
      "  Found 10000 items to be sorted.\r\n",
      "  insertionsort on ../input/order_10000.txt with 10000 items took 571000ns to calculate\r\n",
      "  Writing output to file: ../output/order_10000.txt\r\n",
      "#--------------------------#\r\n",
      "#-- Starting file sorter --#\r\n",
      "#--------------------------#\r\n",
      "  Reading file ../input/order_100000.txt\r\n",
      "  Found 100000 items to be sorted.\r\n",
      "  insertionsort on ../input/order_100000.txt with 100000 items took 2317000ns to calculate\r\n",
      "  Writing output to file: ../output/order_100000.txt\r\n",
      "#--------------------------#\r\n",
      "#-- Starting file sorter --#\r\n",
      "#--------------------------#\r\n",
      "  Reading file ../input/order_1000000.txt\r\n",
      "  Found 1000000 items to be sorted.\r\n",
      "  insertionsort on ../input/order_1000000.txt with 1000000 items took 3931000ns to calculate\r\n",
      "  Writing output to file: ../output/order_1000000.txt\r\n",
      "#--------------------------#\r\n",
      "#-- Starting file sorter --#\r\n",
      "#--------------------------#\r\n",
      "  Reading file ../input/order_2000.txt\r\n",
      "  Found 2000 items to be sorted.\r\n",
      "  insertionsort on ../input/order_2000.txt with 2000 items took 396000ns to calculate\r\n",
      "  Writing output to file: ../output/order_2000.txt\r\n",
      "#--------------------------#\r\n",
      "#-- Starting file sorter --#\r\n",
      "#--------------------------#\r\n",
      "  Reading file ../input/order_50.txt\r\n",
      "  Found 50 items to be sorted.\r\n",
      "  insertionsort on ../input/order_50.txt with 50 items took 306000ns to calculate\r\n",
      "  Writing output to file: ../output/order_50.txt\r\n",
      "#--------------------------#\r\n",
      "#-- Starting file sorter --#\r\n",
      "#--------------------------#\r\n",
      "  Reading file ../input/order_500.txt\r\n",
      "  Found 500 items to be sorted.\r\n",
      "  insertionsort on ../input/order_500.txt with 500 items took 333000ns to calculate\r\n",
      "  Writing output to file: ../output/order_500.txt\r\n",
      "#--------------------------#\r\n",
      "#-- Starting file sorter --#\r\n",
      "#--------------------------#\r\n",
      "  Reading file ../input/order_5000.txt\r\n",
      "  Found 5000 items to be sorted.\r\n",
      "  insertionsort on ../input/order_5000.txt with 5000 items took 467000ns to calculate\r\n",
      "  Writing output to file: ../output/order_5000.txt\r\n",
      "#--------------------------#\r\n",
      "#-- Starting file sorter --#\r\n",
      "#--------------------------#\r\n",
      "  Reading file ../input/order_50000.txt\r\n",
      "  Found 50000 items to be sorted.\r\n",
      "  insertionsort on ../input/order_50000.txt with 50000 items took 1599000ns to calculate\r\n",
      "  Writing output to file: ../output/order_50000.txt\r\n",
      "#--------------------------#\r\n",
      "#-- Starting file sorter --#\r\n",
      "#--------------------------#\r\n",
      "  Reading file ../input/random_1000.txt\r\n",
      "  Found 1000 items to be sorted.\r\n",
      "  insertionsort on ../input/random_1000.txt with 1000 items took 3520000ns to calculate\r\n",
      "  Writing output to file: ../output/random_1000.txt\r\n",
      "#--------------------------#\r\n",
      "#-- Starting file sorter --#\r\n",
      "#--------------------------#\r\n",
      "  Reading file ../input/random_10000.txt\r\n",
      "  Found 10000 items to be sorted.\r\n",
      "  insertionsort on ../input/random_10000.txt with 10000 items took 34533000ns to calculate\r\n",
      "  Writing output to file: ../output/random_10000.txt\r\n",
      "#--------------------------#\r\n",
      "#-- Starting file sorter --#\r\n",
      "#--------------------------#\r\n",
      "  Reading file ../input/random_100000.txt\r\n",
      "  Found 100000 items to be sorted.\r\n",
      "  insertionsort on ../input/random_100000.txt with 100000 items took 891793000ns to calculate\r\n",
      "  Writing output to file: ../output/random_100000.txt\r\n",
      "#--------------------------#\r\n",
      "#-- Starting file sorter --#\r\n",
      "#--------------------------#\r\n",
      "  Reading file ../input/random_1000000.txt\r\n",
      "  Found 1000000 items to be sorted.\r\n",
      "  insertionsort on ../input/random_1000000.txt with 1000000 items took 89288609000ns to calculate\r\n",
      "  Writing output to file: ../output/random_1000000.txt\r\n",
      "#--------------------------#\r\n",
      "#-- Starting file sorter --#\r\n",
      "#--------------------------#\r\n",
      "  Reading file ../input/random_2000.txt\r\n",
      "  Found 2000 items to be sorted.\r\n",
      "  insertionsort on ../input/random_2000.txt with 2000 items took 4125000ns to calculate\r\n",
      "  Writing output to file: ../output/random_2000.txt\r\n",
      "#--------------------------#\r\n",
      "#-- Starting file sorter --#\r\n",
      "#--------------------------#\r\n",
      "  Reading file ../input/random_50.txt\r\n",
      "  Found 50 items to be sorted.\r\n",
      "  insertionsort on ../input/random_50.txt with 50 items took 288000ns to calculate\r\n",
      "  Writing output to file: ../output/random_50.txt\r\n",
      "#--------------------------#\r\n",
      "#-- Starting file sorter --#\r\n",
      "#--------------------------#\r\n",
      "  Reading file ../input/random_500.txt\r\n",
      "  Found 500 items to be sorted.\r\n",
      "  insertionsort on ../input/random_500.txt with 500 items took 1500000ns to calculate\r\n",
      "  Writing output to file: ../output/random_500.txt\r\n",
      "#--------------------------#\r\n",
      "#-- Starting file sorter --#\r\n",
      "#--------------------------#\r\n",
      "  Reading file ../input/random_5000.txt\r\n",
      "  Found 5000 items to be sorted.\r\n",
      "  insertionsort on ../input/random_5000.txt with 5000 items took 9683000ns to calculate\r\n",
      "  Writing output to file: ../output/random_5000.txt\r\n",
      "#--------------------------#\r\n",
      "#-- Starting file sorter --#\r\n",
      "#--------------------------#\r\n",
      "  Reading file ../input/random_50000.txt\r\n",
      "  Found 50000 items to be sorted.\r\n",
      "  insertionsort on ../input/random_50000.txt with 50000 items took 219809000ns to calculate\r\n",
      "  Writing output to file: ../output/random_50000.txt\r\n",
      "#--------------------------#\r\n",
      "#-- Starting file sorter --#\r\n",
      "#--------------------------#\r\n",
      "  Reading file ../input/reverse_1000.txt\r\n",
      "  Found 1000 items to be sorted.\r\n",
      "  insertionsort on ../input/reverse_1000.txt with 1000 items took 3536000ns to calculate\r\n",
      "  Writing output to file: ../output/reverse_1000.txt\r\n",
      "#--------------------------#\r\n",
      "#-- Starting file sorter --#\r\n",
      "#--------------------------#\r\n",
      "  Reading file ../input/reverse_10000.txt\r\n",
      "  Found 10000 items to be sorted.\r\n",
      "  insertionsort on ../input/reverse_10000.txt with 10000 items took 40687000ns to calculate\r\n",
      "  Writing output to file: ../output/reverse_10000.txt\r\n",
      "#--------------------------#\r\n",
      "#-- Starting file sorter --#\r\n",
      "#--------------------------#\r\n",
      "  Reading file ../input/reverse_100000.txt\r\n",
      "  Found 100000 items to be sorted.\r\n",
      "  insertionsort on ../input/reverse_100000.txt with 100000 items took 1728955000ns to calculate\r\n",
      "  Writing output to file: ../output/reverse_100000.txt\r\n",
      "#--------------------------#\r\n",
      "#-- Starting file sorter --#\r\n",
      "#--------------------------#\r\n",
      "  Reading file ../input/reverse_1000000.txt\r\n",
      "  Found 1000000 items to be sorted.\r\n",
      "  insertionsort on ../input/reverse_1000000.txt with 1000000 items took 179732256000ns to calculate\r\n",
      "  Writing output to file: ../output/reverse_1000000.txt\r\n",
      "#--------------------------#\r\n",
      "#-- Starting file sorter --#\r\n",
      "#--------------------------#\r\n",
      "  Reading file ../input/reverse_2000.txt\r\n",
      "  Found 2000 items to be sorted.\r\n",
      "  insertionsort on ../input/reverse_2000.txt with 2000 items took 4194000ns to calculate\r\n",
      "  Writing output to file: ../output/reverse_2000.txt\r\n",
      "#--------------------------#\r\n",
      "#-- Starting file sorter --#\r\n",
      "#--------------------------#\r\n",
      "  Reading file ../input/reverse_50.txt\r\n",
      "  Found 50 items to be sorted.\r\n",
      "  insertionsort on ../input/reverse_50.txt with 50 items took 342000ns to calculate\r\n",
      "  Writing output to file: ../output/reverse_50.txt\r\n",
      "#--------------------------#\r\n",
      "#-- Starting file sorter --#\r\n",
      "#--------------------------#\r\n",
      "  Reading file ../input/reverse_500.txt\r\n",
      "  Found 500 items to be sorted.\r\n",
      "  insertionsort on ../input/reverse_500.txt with 500 items took 2802000ns to calculate\r\n",
      "  Writing output to file: ../output/reverse_500.txt\r\n",
      "#--------------------------#\r\n",
      "#-- Starting file sorter --#\r\n",
      "#--------------------------#\r\n",
      "  Reading file ../input/reverse_5000.txt\r\n",
      "  Found 5000 items to be sorted.\r\n",
      "  insertionsort on ../input/reverse_5000.txt with 5000 items took 8538000ns to calculate\r\n",
      "  Writing output to file: ../output/reverse_5000.txt\r\n",
      "#--------------------------#\r\n",
      "#-- Starting file sorter --#\r\n",
      "#--------------------------#\r\n",
      "  Reading file ../input/reverse_50000.txt\r\n",
      "  Found 50000 items to be sorted.\r\n",
      "  insertionsort on ../input/reverse_50000.txt with 50000 items took 417903000ns to calculate\r\n",
      "  Writing output to file: ../output/reverse_50000.txt\r\n"
     ]
    }
   ],
   "source": [
    "cat insertion_timing.txt"
   ]
  },
  {
   "cell_type": "code",
   "execution_count": 5,
   "metadata": {
    "collapsed": true
   },
   "outputs": [],
   "source": [
    "def create_table(file_list):\n",
    "    data = []\n",
    "    for infile in file_list:\n",
    "        method = os.path.split(infile)[-1].split('_')[0]\n",
    "        order, sizes, times = parse_file(infile)\n",
    "        \n",
    "        for (o, s, t) in zip(order, sizes, times):\n",
    "            data.append((method, o, s, t))\n",
    "            \n",
    "    t = Table(rows=data, names=('method', 'order', 'size', 'time'))\n",
    "    \n",
    "    return t"
   ]
  },
  {
   "cell_type": "code",
   "execution_count": 8,
   "metadata": {
    "collapsed": false
   },
   "outputs": [],
   "source": [
    "info = create_table(glob.glob('*timing.txt'))"
   ]
  },
  {
   "cell_type": "code",
   "execution_count": 9,
   "metadata": {
    "collapsed": false,
    "scrolled": false
   },
   "outputs": [
    {
     "name": "stdout",
     "output_type": "stream",
     "text": [
      "heap\n",
      "heaprecursive\n",
      "quick\n",
      "quick50\n",
      "quickmed\n"
     ]
    },
    {
     "data": {
      "image/png": "[encoded data removed]",
      "text/plain": [
       "<matplotlib.figure.Figure at 0x1042c0f10>"
      ]
     },
     "metadata": {},
     "output_type": "display_data"
    }
   ],
   "source": [
    "fig = plt.figure(figsize=(10, 20))\n",
    "\n",
    "methods = sorted(list(set(info['method'])))\n",
    "\n",
    "for i, method in enumerate(methods):\n",
    "    print(method)\n",
    "    ax = fig.add_subplot(len(methods), 1, i+1)\n",
    "    \n",
    "    index = np.where(info['method'] == method)[0]\n",
    "    orders = sorted(list(set(info['order'][index])))\n",
    "    \n",
    "    #sindex = np.argsort(info['size'][index])\n",
    "    #info[index][sindex].write(open('{}.tex'.format(method), 'w'), format='latex')\n",
    "    \n",
    "    for order in orders:\n",
    "        index = np.where((info['method'] == method) &\n",
    "                         (info['order'] == order))[0]\n",
    "        \n",
    "        ax.loglog(info['size'][index], \n",
    "                  info['time'][index], \n",
    "                  label=order, \n",
    "                  marker='o', \n",
    "                  ls='', \n",
    "                  ms=10,\n",
    "                  alpha=.9)\n",
    "        \n",
    "        \n",
    "    ax.legend(shadow=True, numpoints=1, loc='upper left')\n",
    "    ax.set_title(method)\n",
    "    ax.set_xlabel(\"Log File Size\")\n",
    "    ax.set_ylabel(\"Log Sorting Time (s)\")\n",
    "    ax.set_xlim(0, info['size'].max()*1.2)\n",
    "    \n",
    "fig.tight_layout()\n",
    "\n",
    "fig.savefig('sorting_efficiency.pdf')"
   ]
  },
  {
   "cell_type": "code",
   "execution_count": 168,
   "metadata": {
    "collapsed": false
   },
   "outputs": [],
   "source": [
    "orderings = list(set(info['order']))\n",
    "methods = sorted(list(set(info['method'])))\n",
    "sizes = sorted(list(set(info['size'])))"
   ]
  },
  {
   "cell_type": "code",
   "execution_count": 192,
   "metadata": {
    "collapsed": false
   },
   "outputs": [],
   "source": [
    "for o in orderings:\n",
    "    data = []\n",
    "    for s in sizes:\n",
    "        index = np.where((info['order'] == o ) &\n",
    "                         (info['size'] == s))[0]\n",
    "        data.append([s] + [info[index]['time'][info[index]['method'] == m].item() for m in methods])\n",
    "        \n",
    "    t = Table(rows=data, names=['size'] + methods)\n",
    "\n",
    "    t.write('{}.tex'.format(o), format='latex')"
   ]
  },
  {
   "cell_type": "code",
   "execution_count": 189,
   "metadata": {
    "collapsed": false
   },
   "outputs": [
    {
     "data": {
      "text/html": [
       "&lt;Table masked=False length=9&gt;\n",
       "<table id=\"table139811012848328\">\n",
       "<thead><tr><th>size</th><th>heap</th><th>heaprecursive</th><th>insertion</th><th>quick</th><th>quick100</th><th>quick50</th></tr></thead>\n",
       "<thead><tr><th>int64</th><th>float64</th><th>float64</th><th>float64</th><th>float64</th><th>float64</th><th>float64</th></tr></thead>\n",
       "<tr><td>50</td><td>0.0003978</td><td>0.000252842</td><td>0.000207553</td><td>0.000643817</td><td>0.000239713</td><td>0.000242833</td></tr>\n",
       "<tr><td>500</td><td>0.000615428</td><td>0.000882167</td><td>0.001215953</td><td>0.001310385</td><td>0.001325422</td><td>0.001313499</td></tr>\n",
       "<tr><td>1000</td><td>0.001267839</td><td>0.001524172</td><td>0.00287119</td><td>0.003733475</td><td>0.002603169</td><td>0.002635834</td></tr>\n",
       "<tr><td>2000</td><td>0.002315942</td><td>0.002647341</td><td>0.003195627</td><td>0.003146445</td><td>0.003144586</td><td>0.00328196</td></tr>\n",
       "<tr><td>5000</td><td>0.003310394</td><td>0.003272234</td><td>0.005934386</td><td>0.005229633</td><td>0.004822836</td><td>0.00484362</td></tr>\n",
       "<tr><td>10000</td><td>0.013390662</td><td>0.01710462</td><td>0.024208983</td><td>0.021325309</td><td>0.022190923</td><td>0.021652428</td></tr>\n",
       "<tr><td>50000</td><td>0.011519663</td><td>0.012020441</td><td>0.197074721</td><td>0.099174622</td><td>0.094072075</td><td>0.096792049</td></tr>\n",
       "<tr><td>100000</td><td>0.016533855</td><td>0.016950739</td><td>0.69644773</td><td>0.356080076</td><td>0.343005856</td><td>0.34397153</td></tr>\n",
       "<tr><td>1000000</td><td>0.100491692</td><td>0.091801463</td><td>259.352003426</td><td>33.30067469</td><td>33.079817714</td><td>33.792895479</td></tr>\n",
       "</table>"
      ],
      "text/plain": [
       "<Table masked=False length=9>\n",
       "  size      heap    heaprecursive ...    quick      quick100     quick50   \n",
       " int64    float64      float64    ...   float64     float64      float64   \n",
       "------- ----------- ------------- ... ----------- ------------ ------------\n",
       "     50   0.0003978   0.000252842 ... 0.000643817  0.000239713  0.000242833\n",
       "    500 0.000615428   0.000882167 ... 0.001310385  0.001325422  0.001313499\n",
       "   1000 0.001267839   0.001524172 ... 0.003733475  0.002603169  0.002635834\n",
       "   2000 0.002315942   0.002647341 ... 0.003146445  0.003144586   0.00328196\n",
       "   5000 0.003310394   0.003272234 ... 0.005229633  0.004822836   0.00484362\n",
       "  10000 0.013390662    0.01710462 ... 0.021325309  0.022190923  0.021652428\n",
       "  50000 0.011519663   0.012020441 ... 0.099174622  0.094072075  0.096792049\n",
       " 100000 0.016533855   0.016950739 ... 0.356080076  0.343005856   0.34397153\n",
       "1000000 0.100491692   0.091801463 ... 33.30067469 33.079817714 33.792895479"
      ]
     },
     "execution_count": 189,
     "metadata": {},
     "output_type": "execute_result"
    }
   ],
   "source": [
    "t"
   ]
  },
  {
   "cell_type": "code",
   "execution_count": 177,
   "metadata": {
    "collapsed": false
   },
   "outputs": [
    {
     "data": {
      "text/plain": [
       "['heap', 'heaprecursive', 'insertion', 'quick', 'quick100', 'quick50']"
      ]
     },
     "execution_count": 177,
     "metadata": {},
     "output_type": "execute_result"
    }
   ],
   "source": [
    "methods"
   ]
  },
  {
   "cell_type": "code",
   "execution_count": 185,
   "metadata": {
    "collapsed": false
   },
   "outputs": [
    {
     "data": {
      "text/plain": [
       "0.100491692"
      ]
     },
     "execution_count": 185,
     "metadata": {},
     "output_type": "execute_result"
    }
   ],
   "source": [
    "info[index]['time'][info[index]['method'] == 'heap'].item()"
   ]
  },
  {
   "cell_type": "code",
   "execution_count": null,
   "metadata": {
    "collapsed": true
   },
   "outputs": [],
   "source": []
  }
 ],
 "metadata": {
  "kernelspec": {
   "display_name": "Python 2",
   "language": "python",
   "name": "python2"
  },
  "language_info": {
   "codemirror_mode": {
    "name": "ipython",
    "version": 2
   },
   "file_extension": ".py",
   "mimetype": "text/x-python",
   "name": "python",
   "nbconvert_exporter": "python",
   "pygments_lexer": "ipython2",
   "version": "2.7.10"
  }
 },
 "nbformat": 4,
 "nbformat_minor": 0
}

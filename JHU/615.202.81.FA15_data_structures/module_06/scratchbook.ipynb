{
 "cells": [
  {
   "cell_type": "code",
   "execution_count": 34,
   "metadata": {
    "collapsed": false
   },
   "outputs": [],
   "source": [
    "class Deque():\n",
    "    def __init__(self):\n",
    "        self.data = []\n",
    "        self.Right = 0\n",
    "        self.Left = 0\n",
    "        \n",
    "    def InsertLeft(self, data):\n",
    "        self.data.insert(self.Left, data)\n",
    "        self.Right += 1\n",
    "    \n",
    "    def InsertRight(self, data):\n",
    "        self.data.insert(self.Right, data)\n",
    "        self.Right += 1\n",
    "        \n",
    "    def DeleteLeft(self):\n",
    "        del self.data[self.Left]\n",
    "        self.Right -= 1\n",
    "        \n",
    "    def DeleteRight(self):\n",
    "        self.Right -= 1\n",
    "        del self.data[self.Right]\n",
    "        \n",
    "    def __str__(self):\n",
    "        return self.data.__str__()\n",
    "    \n",
    "\n",
    "class DNode():\n",
    "    def __init__(self, value, next, previous):\n",
    "        self.Next = next\n",
    "        self.Previous = previous\n",
    "        self.value = value\n",
    "    \n",
    "    "
   ]
  },
  {
   "cell_type": "code",
   "execution_count": 36,
   "metadata": {
    "collapsed": false
   },
   "outputs": [],
   "source": [
    "d = Deque()"
   ]
  },
  {
   "cell_type": "code",
   "execution_count": 37,
   "metadata": {
    "collapsed": false
   },
   "outputs": [
    {
     "name": "stdout",
     "output_type": "stream",
     "text": [
      "[1] 0 1\n"
     ]
    }
   ],
   "source": [
    "d.InsertLeft(1)\n",
    "print d, d.Left, d.Right"
   ]
  },
  {
   "cell_type": "code",
   "execution_count": 38,
   "metadata": {
    "collapsed": false
   },
   "outputs": [
    {
     "name": "stdout",
     "output_type": "stream",
     "text": [
      "[1, 5] 0 2\n"
     ]
    }
   ],
   "source": [
    "d.InsertRight(5)\n",
    "print d, d.Left, d.Right"
   ]
  },
  {
   "cell_type": "code",
   "execution_count": 39,
   "metadata": {
    "collapsed": false
   },
   "outputs": [
    {
     "name": "stdout",
     "output_type": "stream",
     "text": [
      "[1, 5, 3] 0 3\n"
     ]
    }
   ],
   "source": [
    "d.InsertRight(3)\n",
    "print d, d.Left, d.Right"
   ]
  },
  {
   "cell_type": "code",
   "execution_count": 40,
   "metadata": {
    "collapsed": false
   },
   "outputs": [
    {
     "name": "stdout",
     "output_type": "stream",
     "text": [
      "[7, 1, 5, 3] 0 4\n"
     ]
    }
   ],
   "source": [
    "d.InsertLeft(7)\n",
    "print d, d.Left, d.Right"
   ]
  },
  {
   "cell_type": "code",
   "execution_count": 41,
   "metadata": {
    "collapsed": false
   },
   "outputs": [
    {
     "name": "stdout",
     "output_type": "stream",
     "text": [
      "[1, 5, 3] 0 3\n"
     ]
    }
   ],
   "source": [
    "d.DeleteLeft()\n",
    "print d, d.Left, d.Right"
   ]
  },
  {
   "cell_type": "code",
   "execution_count": 42,
   "metadata": {
    "collapsed": false
   },
   "outputs": [
    {
     "name": "stdout",
     "output_type": "stream",
     "text": [
      "[1, 5] 0 2\n"
     ]
    }
   ],
   "source": [
    "d.DeleteRight()\n",
    "print d, d.Left, d.Right"
   ]
  },
  {
   "cell_type": "code",
   "execution_count": null,
   "metadata": {
    "collapsed": true
   },
   "outputs": [],
   "source": []
  }
 ],
 "metadata": {
  "kernelspec": {
   "display_name": "Python 2",
   "language": "python",
   "name": "python2"
  },
  "language_info": {
   "codemirror_mode": {
    "name": "ipython",
    "version": 2
   },
   "file_extension": ".py",
   "mimetype": "text/x-python",
   "name": "python",
   "nbconvert_exporter": "python",
   "pygments_lexer": "ipython2",
   "version": "2.7.10"
  }
 },
 "nbformat": 4,
 "nbformat_minor": 0
}

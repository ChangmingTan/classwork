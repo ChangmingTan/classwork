{
 "cells": [
  {
   "cell_type": "code",
   "execution_count": 9,
   "metadata": {
    "collapsed": true
   },
   "outputs": [],
   "source": [
    "import numpy as np"
   ]
  },
  {
   "cell_type": "markdown",
   "metadata": {},
   "source": [
    "## Problem 1: recursive add function"
   ]
  },
  {
   "cell_type": "code",
   "execution_count": 3,
   "metadata": {
    "collapsed": true
   },
   "outputs": [],
   "source": [
    "def recursive_add(a, b):\n",
    "    if b == 0:\n",
    "        return a\n",
    "    else:\n",
    "        return 1 + recursive_add(a, b-1)"
   ]
  },
  {
   "cell_type": "code",
   "execution_count": 8,
   "metadata": {
    "collapsed": false
   },
   "outputs": [],
   "source": [
    "assert recursive_add(2, 3) == 5\n",
    "assert recursive_add(0, 0) == 0\n",
    "assert recursive_add(1, 1) == 2\n",
    "assert recursive_add(10, 12) == 22"
   ]
  },
  {
   "cell_type": "markdown",
   "metadata": {},
   "source": [
    "## Problem 2: recursive average function"
   ]
  },
  {
   "cell_type": "code",
   "execution_count": 62,
   "metadata": {
    "collapsed": false
   },
   "outputs": [],
   "source": [
    "def recursive_avg(array):\n",
    "    n = len(array)\n",
    "    if n == 1:\n",
    "        return array[0]\n",
    "    elif n == 2:\n",
    "        return (array[0] + array[1]) / 2.0\n",
    "    else:\n",
    "        return (array[n-1] + (n-1) * recursive_avg(array[0:n-1])) / n"
   ]
  },
  {
   "cell_type": "code",
   "execution_count": 63,
   "metadata": {
    "collapsed": false
   },
   "outputs": [],
   "source": [
    "for a in [np.arange(10), np.ones(15), np.zeros(4), np.array([5]), np.array([1, 17.2])]:\n",
    "    assert recursive_avg(a) == np.mean(a)"
   ]
  },
  {
   "cell_type": "markdown",
   "metadata": {},
   "source": [
    "## Problem 3: Ackerman's"
   ]
  },
  {
   "cell_type": "code",
   "execution_count": 122,
   "metadata": {
    "collapsed": false
   },
   "outputs": [],
   "source": [
    "def a(m, n):\n",
    "    if m == 0:\n",
    "        print 'a({}, {}) = {}'.format(m, n, n+1)\n",
    "        return n + 1\n",
    "    elif (m != 0) and (n == 0):\n",
    "        print 'a({}, {}) = a({}, {})'.format(m, n, m-1, 1)\n",
    "        return a(m-1, 1)\n",
    "    else:\n",
    "        print 'a({}, {}) = a({}, a({}, {}))'.format(m, n, m-1, m, n-1)\n",
    "        return a(m-1, a(m, n-1))"
   ]
  },
  {
   "cell_type": "code",
   "execution_count": 123,
   "metadata": {
    "collapsed": false
   },
   "outputs": [
    {
     "name": "stdout",
     "output_type": "stream",
     "text": [
      "a(2, 2) = a(1, a(2, 1))\n",
      "a(2, 1) = a(1, a(2, 0))\n",
      "a(2, 0) = a(1, 1)\n",
      "a(1, 1) = a(0, a(1, 0))\n",
      "a(1, 0) = a(0, 1)\n",
      "a(0, 1) = 2\n",
      "a(0, 2) = 3\n",
      "a(1, 3) = a(0, a(1, 2))\n",
      "a(1, 2) = a(0, a(1, 1))\n",
      "a(1, 1) = a(0, a(1, 0))\n",
      "a(1, 0) = a(0, 1)\n",
      "a(0, 1) = 2\n",
      "a(0, 2) = 3\n",
      "a(0, 3) = 4\n",
      "a(0, 4) = 5\n",
      "a(1, 5) = a(0, a(1, 4))\n",
      "a(1, 4) = a(0, a(1, 3))\n",
      "a(1, 3) = a(0, a(1, 2))\n",
      "a(1, 2) = a(0, a(1, 1))\n",
      "a(1, 1) = a(0, a(1, 0))\n",
      "a(1, 0) = a(0, 1)\n",
      "a(0, 1) = 2\n",
      "a(0, 2) = 3\n",
      "a(0, 3) = 4\n",
      "a(0, 4) = 5\n",
      "a(0, 5) = 6\n",
      "a(0, 6) = 7\n"
     ]
    },
    {
     "data": {
      "text/plain": [
       "7"
      ]
     },
     "execution_count": 123,
     "metadata": {},
     "output_type": "execute_result"
    }
   ],
   "source": [
    "a(2, 2)"
   ]
  },
  {
   "cell_type": "markdown",
   "metadata": {},
   "source": [
    "## Problem 5: GCD"
   ]
  },
  {
   "cell_type": "code",
   "execution_count": 90,
   "metadata": {
    "collapsed": false
   },
   "outputs": [],
   "source": [
    "def gcd(x, y):\n",
    "    if (y <= x) and (x % y == 0):\n",
    "        return y\n",
    "    elif (x < y):\n",
    "        return gcd(y, x)\n",
    "    else:\n",
    "        return gcd(y, x%y)"
   ]
  },
  {
   "cell_type": "code",
   "execution_count": 95,
   "metadata": {
    "collapsed": false
   },
   "outputs": [
    {
     "data": {
      "text/plain": [
       "10"
      ]
     },
     "execution_count": 95,
     "metadata": {},
     "output_type": "execute_result"
    }
   ],
   "source": [
    "gcd(20, 10)"
   ]
  },
  {
   "cell_type": "markdown",
   "metadata": {},
   "source": [
    "## Problem 6: recursive fibbonacci"
   ]
  },
  {
   "cell_type": "code",
   "execution_count": 64,
   "metadata": {
    "collapsed": true
   },
   "outputs": [],
   "source": [
    "def gfib(f0, f1, n):\n",
    "    if n == 0:\n",
    "        return f0\n",
    "    elif n == 1:\n",
    "        return f1\n",
    "    else:\n",
    "        return gfib(f0, f1, n-1) + gfib(f0, f1, n-2)"
   ]
  },
  {
   "cell_type": "code",
   "execution_count": 72,
   "metadata": {
    "collapsed": false
   },
   "outputs": [
    {
     "data": {
      "text/plain": [
       "8"
      ]
     },
     "execution_count": 72,
     "metadata": {},
     "output_type": "execute_result"
    }
   ],
   "source": [
    "gfib(0, 1, 6)"
   ]
  },
  {
   "cell_type": "markdown",
   "metadata": {},
   "source": [
    "#  Self Check"
   ]
  },
  {
   "cell_type": "code",
   "execution_count": 75,
   "metadata": {
    "collapsed": true
   },
   "outputs": [],
   "source": [
    "def M(x, y):\n",
    "    print x, y\n",
    "    if x == y:\n",
    "        return x\n",
    "    elif y > x:\n",
    "        return M(x, y-x)\n",
    "    elif x > y:\n",
    "        return M(x-y, y)"
   ]
  },
  {
   "cell_type": "code",
   "execution_count": 80,
   "metadata": {
    "collapsed": false
   },
   "outputs": [
    {
     "name": "stdout",
     "output_type": "stream",
     "text": [
      "20 10\n",
      "10 10\n"
     ]
    },
    {
     "data": {
      "text/plain": [
       "10"
      ]
     },
     "execution_count": 80,
     "metadata": {},
     "output_type": "execute_result"
    }
   ],
   "source": [
    "M(20, 10)"
   ]
  }
 ],
 "metadata": {
  "kernelspec": {
   "display_name": "Python 2",
   "language": "python",
   "name": "python2"
  },
  "language_info": {
   "codemirror_mode": {
    "name": "ipython",
    "version": 2
   },
   "file_extension": ".py",
   "mimetype": "text/x-python",
   "name": "python",
   "nbconvert_exporter": "python",
   "pygments_lexer": "ipython2",
   "version": "2.7.10"
  }
 },
 "nbformat": 4,
 "nbformat_minor": 0
}

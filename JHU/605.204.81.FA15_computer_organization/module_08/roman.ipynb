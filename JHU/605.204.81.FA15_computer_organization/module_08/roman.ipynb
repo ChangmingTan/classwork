{
 "cells": [
  {
   "cell_type": "code",
   "execution_count": 1,
   "metadata": {
    "collapsed": true
   },
   "outputs": [],
   "source": [
    "mapping = {'I': 1,\n",
    "           'V': 5,\n",
    "           'X': 10,\n",
    "           'L': 50,\n",
    "           'C': 100,\n",
    "           'D': 500,\n",
    "           'M': 1000}"
   ]
  },
  {
   "cell_type": "code",
   "execution_count": 26,
   "metadata": {
    "collapsed": true
   },
   "outputs": [],
   "source": [
    "def roman_to_arabic(string):\n",
    "    out = 0\n",
    "    position = 0\n",
    "    \n",
    "    while position < len(string):\n",
    "        val = mapping[string[position]]\n",
    "        if position == len(string)-1:\n",
    "            #-- goto ADD\n",
    "            out += val\n",
    "            position += 1\n",
    "        else:\n",
    "            nextval = mapping[string[position+1]]\n",
    "\n",
    "            if val == 1 and (nextval in [5, 10]):\n",
    "                #-- goto subtract\n",
    "                out += (nextval - val)\n",
    "                position += 2\n",
    "            elif val == 10 and (nextval in [50, 100]):\n",
    "                out += (nextval - val)\n",
    "                position += 2\n",
    "            elif val == 100 and (nextval in [500, 1000]):\n",
    "                out += (nextval - val)\n",
    "                position += 2\n",
    "            else:\n",
    "                out += val\n",
    "                position += 1\n",
    "            \n",
    "    return out"
   ]
  },
  {
   "cell_type": "code",
   "execution_count": null,
   "metadata": {
    "collapsed": true
   },
   "outputs": [],
   "source": []
  },
  {
   "cell_type": "code",
   "execution_count": 35,
   "metadata": {
    "collapsed": false
   },
   "outputs": [
    {
     "name": "stdout",
     "output_type": "stream",
     "text": [
      "0 5\n",
      "1 5\n",
      "2 5\n",
      "3 5\n",
      "4 5\n"
     ]
    },
    {
     "data": {
      "text/plain": [
       "9"
      ]
     },
     "execution_count": 35,
     "metadata": {},
     "output_type": "execute_result"
    }
   ],
   "source": [
    "roman_to_arabic('LXXIX\n",
    "')"
   ]
  },
  {
   "cell_type": "code",
   "execution_count": null,
   "metadata": {
    "collapsed": true
   },
   "outputs": [],
   "source": []
  }
 ],
 "metadata": {
  "kernelspec": {
   "display_name": "Python 2",
   "language": "python",
   "name": "python2"
  },
  "language_info": {
   "codemirror_mode": {
    "name": "ipython",
    "version": 2
   },
   "file_extension": ".py",
   "mimetype": "text/x-python",
   "name": "python",
   "nbconvert_exporter": "python",
   "pygments_lexer": "ipython2",
   "version": "2.7.10"
  }
 },
 "nbformat": 4,
 "nbformat_minor": 0
}

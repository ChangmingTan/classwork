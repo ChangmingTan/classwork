{
 "cells": [
  {
   "cell_type": "code",
   "execution_count": 21,
   "metadata": {
    "collapsed": true
   },
   "outputs": [],
   "source": [
    "import numpy as np"
   ]
  },
  {
   "cell_type": "code",
   "execution_count": 40,
   "metadata": {
    "collapsed": true
   },
   "outputs": [],
   "source": [
    "def radix_sort(alist):\n",
    "    all_lists = []\n",
    "    alist = np.array(alist)\n",
    "    all_lists.append(alist)\n",
    "    for i in (2, 1, 0):\n",
    "        print alist\n",
    "        tmp_list = [item[i] for item in alist]\n",
    "        index = np.argsort(tmp_list)\n",
    "        \n",
    "        alist = alist[index]\n",
    "        all_lists.append(alist)\n",
    "        \n",
    "    print alist\n",
    "    return all_lists"
   ]
  },
  {
   "cell_type": "code",
   "execution_count": null,
   "metadata": {
    "collapsed": true
   },
   "outputs": [],
   "source": []
  },
  {
   "cell_type": "code",
   "execution_count": 41,
   "metadata": {
    "collapsed": true
   },
   "outputs": [],
   "source": [
    "items = ['COW', 'DOG', 'SEA', 'RUG', 'ROW', 'MOB', 'BOX', 'TAB', 'BAR', 'EAR', 'TAR', 'DIG', 'BIG', 'TEA', 'NOW',\n",
    "'FOX']"
   ]
  },
  {
   "cell_type": "code",
   "execution_count": 42,
   "metadata": {
    "collapsed": false
   },
   "outputs": [
    {
     "name": "stdout",
     "output_type": "stream",
     "text": [
      "['COW' 'DOG' 'SEA' 'RUG' 'ROW' 'MOB' 'BOX' 'TAB' 'BAR' 'EAR' 'TAR' 'DIG'\n",
      " 'BIG' 'TEA' 'NOW' 'FOX']\n",
      "['SEA' 'TEA' 'MOB' 'TAB' 'DOG' 'RUG' 'DIG' 'BIG' 'BAR' 'EAR' 'TAR' 'COW'\n",
      " 'ROW' 'NOW' 'BOX' 'FOX']\n",
      "['TAB' 'BAR' 'EAR' 'TAR' 'SEA' 'TEA' 'DIG' 'BIG' 'MOB' 'DOG' 'COW' 'ROW'\n",
      " 'NOW' 'BOX' 'FOX' 'RUG']\n",
      "['BAR' 'BIG' 'BOX' 'COW' 'DIG' 'DOG' 'EAR' 'FOX' 'MOB' 'NOW' 'ROW' 'RUG'\n",
      " 'SEA' 'TAB' 'TAR' 'TEA']\n"
     ]
    }
   ],
   "source": [
    "out = radix_sort(items)"
   ]
  },
  {
   "cell_type": "code",
   "execution_count": 43,
   "metadata": {
    "collapsed": false
   },
   "outputs": [
    {
     "data": {
      "text/plain": [
       "[array(['COW', 'DOG', 'SEA', 'RUG', 'ROW', 'MOB', 'BOX', 'TAB', 'BAR',\n",
       "        'EAR', 'TAR', 'DIG', 'BIG', 'TEA', 'NOW', 'FOX'], \n",
       "       dtype='|S3'),\n",
       " array(['SEA', 'TEA', 'MOB', 'TAB', 'DOG', 'RUG', 'DIG', 'BIG', 'BAR',\n",
       "        'EAR', 'TAR', 'COW', 'ROW', 'NOW', 'BOX', 'FOX'], \n",
       "       dtype='|S3'),\n",
       " array(['TAB', 'BAR', 'EAR', 'TAR', 'SEA', 'TEA', 'DIG', 'BIG', 'MOB',\n",
       "        'DOG', 'COW', 'ROW', 'NOW', 'BOX', 'FOX', 'RUG'], \n",
       "       dtype='|S3'),\n",
       " array(['BAR', 'BIG', 'BOX', 'COW', 'DIG', 'DOG', 'EAR', 'FOX', 'MOB',\n",
       "        'NOW', 'ROW', 'RUG', 'SEA', 'TAB', 'TAR', 'TEA'], \n",
       "       dtype='|S3')]"
      ]
     },
     "execution_count": 43,
     "metadata": {},
     "output_type": "execute_result"
    }
   ],
   "source": [
    "out"
   ]
  },
  {
   "cell_type": "code",
   "execution_count": 48,
   "metadata": {
    "collapsed": false
   },
   "outputs": [
    {
     "name": "stdout",
     "output_type": "stream",
     "text": [
      "COW    SEA    TAB    BAR   \n",
      "DOG    TEA    BAR    BIG   \n",
      "SEA    MOB    EAR    BOX   \n",
      "RUG    TAB    TAR    COW   \n",
      "ROW    DOG    SEA    DIG   \n",
      "MOB    RUG    TEA    DOG   \n",
      "BOX    DIG    DIG    EAR   \n",
      "TAB    BIG    BIG    FOX   \n",
      "BAR    BAR    MOB    MOB   \n",
      "EAR    EAR    DOG    NOW   \n",
      "TAR    TAR    COW    ROW   \n",
      "DIG    COW    ROW    RUG   \n",
      "BIG    ROW    NOW    SEA   \n",
      "TEA    NOW    BOX    TAB   \n",
      "NOW    BOX    FOX    TAR   \n",
      "FOX    FOX    RUG    TEA   \n"
     ]
    }
   ],
   "source": [
    "for i in range(len(out[0])):\n",
    "    for j in range(len(out)):\n",
    "        print out[j][i],'  ',\n",
    "    print"
   ]
  },
  {
   "cell_type": "markdown",
   "metadata": {},
   "source": [
    "### Problem 2: Quick sort"
   ]
  },
  {
   "cell_type": "markdown",
   "metadata": {},
   "source": [
    "##### Base quicksort and partition"
   ]
  },
  {
   "cell_type": "code",
   "execution_count": 74,
   "metadata": {
    "collapsed": true
   },
   "outputs": [],
   "source": [
    "def quicksort(A, p, r):\n",
    "    if p < r:\n",
    "        q = partition(A, p, r)\n",
    "        quicksort(A, p, q-1)\n",
    "        quicksort(A, q+1, r)"
   ]
  },
  {
   "cell_type": "code",
   "execution_count": 75,
   "metadata": {
    "collapsed": true
   },
   "outputs": [],
   "source": [
    "def partition(A, p, r):\n",
    "    x = A[r]\n",
    "    i = p - 1\n",
    "    \n",
    "    for j in range(p, (r-1)+1):\n",
    "        if A[j] <= x:\n",
    "            i = i+1\n",
    "            A[i], A[j] = A[j], A[i]\n",
    "    A[i+1], A[r] = A[r], A[i+1]\n",
    "    \n",
    "    return i+1"
   ]
  },
  {
   "cell_type": "code",
   "execution_count": 76,
   "metadata": {
    "collapsed": false
   },
   "outputs": [
    {
     "name": "stdout",
     "output_type": "stream",
     "text": [
      "[1, 2, 3, 4, 5, 6]\n"
     ]
    }
   ],
   "source": [
    "items = [4, 5, 6, 3, 2, 1]\n",
    "quicksort(items, 0, len(items)-1)\n",
    "print items"
   ]
  },
  {
   "cell_type": "markdown",
   "metadata": {},
   "source": [
    "##### Modified partition"
   ]
  },
  {
   "cell_type": "code",
   "execution_count": null,
   "metadata": {
    "collapsed": true
   },
   "outputs": [],
   "source": [
    "def quicksortPrime(A, p, r):\n",
    "    if p < r:\n",
    "        q, t = partitionPrime(A, p, r)\n",
    "        \n",
    "        #-- ignore values equal to the pivot\n",
    "        #-- all values on the interval q..t\n",
    "        quicksortPrime(A, p, q-1)\n",
    "        quicksortPrime(A, t+1, r)"
   ]
  },
  {
   "cell_type": "code",
   "execution_count": 307,
   "metadata": {
    "collapsed": false
   },
   "outputs": [],
   "source": [
    "def partitionPrime(A, p, r):\n",
    "    \"\"\"Working\"\"\"\n",
    "    x = A[p]\n",
    "    h = p\n",
    "    i = p\n",
    "    \n",
    "    for j in range(p+1, r+1):\n",
    "        if A[j] < x:\n",
    "            A[i], A[j], A[h+1] = A[j], A[h+1], A[i] \n",
    "            i = i+1\n",
    "            h = h+1\n",
    "            \n",
    "        elif A[j] == x:\n",
    "            A[h], A[j] = A[j], A[h] \n",
    "            h = h+1\n",
    "            \n",
    "    return h, i"
   ]
  },
  {
   "cell_type": "code",
   "execution_count": 320,
   "metadata": {
    "collapsed": true
   },
   "outputs": [],
   "source": [
    "def randomizedQuicksortPrime(A, p, r):\n",
    "    if p < r:\n",
    "        q, t = randomizedPartition(A, p, r)\n",
    "        \n",
    "        #-- ignore values equal to the pivot\n",
    "        #-- all values on the interval q..t\n",
    "        quicksortPrime(A, p, q-1)\n",
    "        quicksortPrime(A, t+1, r)"
   ]
  },
  {
   "cell_type": "code",
   "execution_count": 346,
   "metadata": {
    "collapsed": true
   },
   "outputs": [],
   "source": [
    "def randomizedPartition(A, p, r):\n",
    "    import random\n",
    "    \n",
    "    #-- Select a random index between p and r\n",
    "    i = random.randint(p, r)\n",
    "    \n",
    "    #-- Swap p and i\n",
    "    A[p], A[i] = A[i], A[p]\n",
    "    \n",
    "    #-- Run standard partition function\n",
    "    return partitionPrime(A, p, r)"
   ]
  },
  {
   "cell_type": "code",
   "execution_count": 322,
   "metadata": {
    "collapsed": false
   },
   "outputs": [
    {
     "name": "stdout",
     "output_type": "stream",
     "text": [
      "[2, 2, 3, 3, 4, 4, 12, 12, 12, 12, 12, 13, 14, 18, 24, 54]\n"
     ]
    }
   ],
   "source": [
    "items = [3, 3, 2, 24, 18, 4, 12, 12, 12, 12, 12, 13, 4, 2, 54, 14]\n",
    "quicksortPrime(items, 0, len(items)-1)\n",
    "print items"
   ]
  },
  {
   "cell_type": "code",
   "execution_count": 331,
   "metadata": {
    "collapsed": false
   },
   "outputs": [
    {
     "name": "stdout",
     "output_type": "stream",
     "text": [
      "[2, 2, 4, 3, 3, 4, 12, 12, 12, 12, 12, 13, 14, 18, 24, 54]\n"
     ]
    }
   ],
   "source": [
    "items = [3, 3, 2, 24, 18, 4, 12, 12, 12, 12, 12, 13, 4, 2, 54, 14]\n",
    "randomizedQuicksortPrime(items, 0, len(items)-1)\n",
    "print items"
   ]
  },
  {
   "cell_type": "code",
   "execution_count": 349,
   "metadata": {
    "collapsed": false
   },
   "outputs": [
    {
     "data": {
      "text/plain": [
       "2.0"
      ]
     },
     "execution_count": 349,
     "metadata": {},
     "output_type": "execute_result"
    }
   ],
   "source": [
    "np.ceil(np.log2(8)) -1"
   ]
  },
  {
   "cell_type": "code",
   "execution_count": null,
   "metadata": {
    "collapsed": true
   },
   "outputs": [],
   "source": []
  }
 ],
 "metadata": {
  "kernelspec": {
   "display_name": "Python 2",
   "language": "python",
   "name": "python2"
  },
  "language_info": {
   "codemirror_mode": {
    "name": "ipython",
    "version": 2
   },
   "file_extension": ".py",
   "mimetype": "text/x-python",
   "name": "python",
   "nbconvert_exporter": "python",
   "pygments_lexer": "ipython2",
   "version": "2.7.11"
  }
 },
 "nbformat": 4,
 "nbformat_minor": 0
}

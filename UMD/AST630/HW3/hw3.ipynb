{
 "metadata": {
  "name": "Untitled0"
 },
 "nbformat": 3,
 "nbformat_minor": 0,
 "worksheets": [
  {
   "cells": [
    {
     "cell_type": "code",
     "collapsed": false,
     "input": [
      "import numpy as np"
     ],
     "language": "python",
     "metadata": {},
     "outputs": [],
     "prompt_number": 1
    },
    {
     "cell_type": "code",
     "collapsed": false,
     "input": [
      "#-----\n",
      "k_boltzmann = 1.380658e-16\n",
      "sigma_t = 5.67051e-5\n",
      "AU = 1.496e13\n",
      "l_sun = 3.9e33\n",
      "amu = 1.6605402e-24\n",
      "G = 6.67e-8"
     ],
     "language": "python",
     "metadata": {},
     "outputs": [],
     "prompt_number": 2
    },
    {
     "cell_type": "markdown",
     "metadata": {},
     "source": [
      "### Problem 3.4.I B"
     ]
    },
    {
     "cell_type": "code",
     "collapsed": false,
     "input": [
      "#-----\n",
      "ev_9 = 1.4419e-11\n",
      "\n",
      "#--  3.4 B)\n",
      "print ((ev_9 * 100 * 2e6) / (.1 * sigma_t)) ** (1/4.)"
     ],
     "language": "python",
     "metadata": {},
     "outputs": [
      {
       "output_type": "stream",
       "stream": "stdout",
       "text": [
        "4.74882050166\n"
       ]
      }
     ],
     "prompt_number": 3
    },
    {
     "cell_type": "markdown",
     "metadata": {},
     "source": [
      "### Problem 3.12 E"
     ]
    },
    {
     "cell_type": "code",
     "collapsed": false,
     "input": [
      "#--  3.12 B)\n",
      "Ab = .343\n",
      "e = .9\n",
      "r_d = 5.502 * AU\n",
      "r_p = 71492e5\n",
      "\n",
      "teqq = ((1-Ab) * (l_sun / (15.0 * np.pi * r_d**2 * e * sigma_t)))** (1/4.)\n",
      "print teqq"
     ],
     "language": "python",
     "metadata": {},
     "outputs": [
      {
       "output_type": "stream",
       "stream": "stdout",
       "text": [
        "111.983738982\n"
       ]
      }
     ],
     "prompt_number": 4
    },
    {
     "cell_type": "markdown",
     "metadata": {},
     "source": [
      "### Problem 3.14 I "
     ]
    },
    {
     "cell_type": "code",
     "collapsed": false,
     "input": [],
     "language": "python",
     "metadata": {},
     "outputs": [],
     "prompt_number": 4
    },
    {
     "cell_type": "markdown",
     "metadata": {},
     "source": [
      "### Problem 4.13 E"
     ]
    },
    {
     "cell_type": "code",
     "collapsed": false,
     "input": [
      "N2 = 28\n",
      "O2 = 32\n",
      "O = 16\n",
      "H2 = 2\n",
      "He = 4\n",
      "H = 1\n",
      "H2O = 18\n",
      "CO2 = 12 + 16"
     ],
     "language": "python",
     "metadata": {},
     "outputs": [],
     "prompt_number": 5
    },
    {
     "cell_type": "code",
     "collapsed": false,
     "input": [
      "def mean_molecular_weight(fractions, weights):\n",
      "    \n",
      "    vals = []\n",
      "    for f, w in zip(fractions, weights):\n",
      "        vals.append(f * w)\n",
      "        \n",
      "    return np.sum(vals)"
     ],
     "language": "python",
     "metadata": {},
     "outputs": [],
     "prompt_number": 6
    },
    {
     "cell_type": "code",
     "collapsed": false,
     "input": [
      "def lapse_rate(gamma, gp, mmm, amu):\n",
      "    \n",
      "    coeff_gamma = -1 * (gamma - 1) / gamma\n",
      "    \n",
      "    return (coeff_gamma * gp * mmm * amu) / k_boltzmann"
     ],
     "language": "python",
     "metadata": {},
     "outputs": [],
     "prompt_number": 7
    },
    {
     "cell_type": "code",
     "collapsed": false,
     "input": [
      "#  venus\n",
      "gp = (G * 4.870e27) / (6.050e8)**2\n",
      "gamma = 5/3.\n",
      "print 'K/cm:', lapse_rate(gamma, gp, CO2, amu)\n",
      "print 'K/km:', lapse_rate(gamma, gp, CO2, amu) * 10**5"
     ],
     "language": "python",
     "metadata": {},
     "outputs": [
      {
       "output_type": "stream",
       "stream": "stdout",
       "text": [
        "K/cm: -0.000119543329812\n",
        "K/km: -11.9543329812\n"
       ]
      }
     ],
     "prompt_number": 8
    },
    {
     "cell_type": "code",
     "collapsed": false,
     "input": [
      "#  mars\n",
      "gp = (G * 6.418e26) / (3.397e8)**2\n",
      "gamma = 5/3.\n",
      "print 'K/cm:', lapse_rate(gamma, gp, CO2, amu)\n",
      "print 'K/km:', lapse_rate(gamma, gp, CO2, amu) * 10**5"
     ],
     "language": "python",
     "metadata": {},
     "outputs": [
      {
       "output_type": "stream",
       "stream": "stdout",
       "text": [
        "K/cm: -4.99707371227e-05\n",
        "K/km: -4.99707371227\n"
       ]
      }
     ],
     "prompt_number": 9
    },
    {
     "cell_type": "code",
     "collapsed": false,
     "input": [
      "#  Earth\n",
      "gp = (G * 5.976e27) / (6.378e8)**2\n",
      "gamma = 7/5.\n",
      "mmm = mean_molecular_weight([.2, .8], [O2, N2])\n",
      "print 'K/cm:', lapse_rate(gamma, gp, mmm, amu)\n",
      "print 'K/km:', lapse_rate(gamma, gp, mmm, amu) * 10**5"
     ],
     "language": "python",
     "metadata": {},
     "outputs": [
      {
       "output_type": "stream",
       "stream": "stdout",
       "text": [
        "K/cm: -9.69739568348e-05\n",
        "K/km: -9.69739568348\n"
       ]
      }
     ],
     "prompt_number": 10
    },
    {
     "cell_type": "code",
     "collapsed": false,
     "input": [
      "#  Jupiter\n",
      "gp = (G * 1.899e30) / (7.140e9)**2\n",
      "gamma = 7/5.\n",
      "mmm = mean_molecular_weight([.9, .1], [H2, He])\n",
      "print 'K/cm:', lapse_rate(gamma, gp, mmm, amu)\n",
      "print 'K/km:', lapse_rate(gamma, gp, mmm, amu) * 10**5"
     ],
     "language": "python",
     "metadata": {},
     "outputs": [
      {
       "output_type": "stream",
       "stream": "stdout",
       "text": [
        "K/cm: -1.87833171625e-05\n",
        "K/km: -1.87833171625\n"
       ]
      }
     ],
     "prompt_number": 11
    },
    {
     "cell_type": "markdown",
     "metadata": {},
     "source": [
      "### Problem 4.14 I"
     ]
    },
    {
     "cell_type": "code",
     "collapsed": false,
     "input": [
      "# A\n",
      "gp = (G * 5.976e27) / (6.378e8)**2\n",
      "gamma = 7/5.\n",
      "mmm = mean_molecular_weight([.2, .8], [O2, N2])\n",
      "\n",
      "cp = (gamma / (gamma - 1)) * (k_boltzmann / (mmm * amu))\n",
      "print \"cp: \", cp\n",
      "print \"-(gp/cp), to verify:\", -gp / cp, \" should be 10K / km\""
     ],
     "language": "python",
     "metadata": {},
     "outputs": [
      {
       "output_type": "stream",
       "stream": "stdout",
       "text": [
        "cp:  10104440.6279\n",
        "-(gp/cp), to verify: -9.69739568348e-05\n"
       ]
      }
     ],
     "prompt_number": 12
    },
    {
     "cell_type": "code",
     "collapsed": false,
     "input": [
      "# B\n",
      "T = 280.0\n",
      "Cl = 3e7\n",
      "Ls = 5.1e11\n",
      "R = 8.3144621e7\n",
      "\n",
      "P_w = Cl * np.exp((-1.0 * Ls) / (R * T))\n",
      "print \"P_w:\", P_w"
     ],
     "language": "python",
     "metadata": {},
     "outputs": [
      {
       "output_type": "stream",
       "stream": "stdout",
       "text": [
        "P_w: 0.00918628371128\n"
       ]
      }
     ],
     "prompt_number": 13
    },
    {
     "cell_type": "code",
     "collapsed": false,
     "input": [
      "# C\n",
      "mmm_w = float(H2O)\n",
      "mmm_air = mean_molecular_weight([.2, .8], [O2, N2])\n",
      "\n",
      "print \"molecular weight of water:\", mmm_w\n",
      "print \"molecular weight of air:\", mmm_air\n",
      "w_s = P_w * (float(mmm_w) / mmm_air)\n",
      "print \"w_s:\", w_s"
     ],
     "language": "python",
     "metadata": {},
     "outputs": [
      {
       "output_type": "stream",
       "stream": "stdout",
       "text": [
        "molecular weight of water: 18.0\n",
        "molecular weight of air: 28.8\n",
        "w_s: 0.00574142731955\n"
       ]
      }
     ],
     "prompt_number": 14
    },
    {
     "cell_type": "code",
     "collapsed": false,
     "input": [
      "# D\n",
      "#  Should be 5 to 6 K/km\n",
      "\n",
      "#1.27e20\n",
      "wet_lapse_rate = -gp / (cp + Ls * (1/18.) * w_s)\n",
      "print \"wet lapse rate:\", wet_lapse_rate\n",
      "print \"wet lapse rate:\", wet_lapse_rate * 10**5"
     ],
     "language": "python",
     "metadata": {},
     "outputs": [
      {
       "output_type": "stream",
       "stream": "stdout",
       "text": [
        "wet lapse rate: -5.67124501832e-06\n",
        "wet lapse rate: -0.567124501832\n"
       ]
      }
     ],
     "prompt_number": 15
    },
    {
     "cell_type": "code",
     "collapsed": false,
     "input": [
      "((-gp / 5.0) - cp) / (Ls/18.0)"
     ],
     "language": "python",
     "metadata": {},
     "outputs": [
      {
       "output_type": "pyout",
       "prompt_number": 16,
       "text": [
        "-0.00035663423299057924"
       ]
      }
     ],
     "prompt_number": 16
    },
    {
     "cell_type": "code",
     "collapsed": false,
     "input": [],
     "language": "python",
     "metadata": {},
     "outputs": [],
     "prompt_number": 16
    }
   ],
   "metadata": {}
  }
 ]
}
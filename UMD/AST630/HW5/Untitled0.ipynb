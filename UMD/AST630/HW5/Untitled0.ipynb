{
 "metadata": {
  "name": "",
  "signature": "sha256:a7034481bfaaa8780740a0e8bae12a506aaf738753735d52b291086509f80b19"
 },
 "nbformat": 3,
 "nbformat_minor": 0,
 "worksheets": [
  {
   "cells": [
    {
     "cell_type": "code",
     "collapsed": false,
     "input": [
      "'%3.3e' % (1.268e7 - 2e6)"
     ],
     "language": "python",
     "metadata": {},
     "outputs": [
      {
       "metadata": {},
       "output_type": "pyout",
       "prompt_number": 11,
       "text": [
        "'1.068e+07'"
       ]
      }
     ],
     "prompt_number": 11
    },
    {
     "cell_type": "code",
     "collapsed": false,
     "input": [
      "def mass(number, molar_mass):\n",
      "    return (number / (6.022e23)) * molar_mass"
     ],
     "language": "python",
     "metadata": {},
     "outputs": [],
     "prompt_number": 13
    },
    {
     "cell_type": "code",
     "collapsed": false,
     "input": [
      "55.845 + 32.066"
     ],
     "language": "python",
     "metadata": {},
     "outputs": [
      {
       "metadata": {},
       "output_type": "pyout",
       "prompt_number": 17,
       "text": [
        "87.911"
       ]
      }
     ],
     "prompt_number": 17
    },
    {
     "cell_type": "code",
     "collapsed": false,
     "input": [
      "atoms = [1e6, 1.02e6, 3.93e5, 4.45e5]\n",
      "molar_masses = [60.0843, 40.3044, 71.8444, 87.9111]\n",
      "\n",
      "tot = 0\n",
      "for a, m in zip(atoms, molar_masses):\n",
      "    tot += mass(a, m)\n",
      "\n",
      "rock_mass = (tot * (10**6) * 1.1) / (1.66 * 10 **(-24)) "
     ],
     "language": "python",
     "metadata": {},
     "outputs": [],
     "prompt_number": 38
    },
    {
     "cell_type": "code",
     "collapsed": false,
     "input": [
      "'%3.3e' % (1.068E7 - 7.08E6)"
     ],
     "language": "python",
     "metadata": {},
     "outputs": [
      {
       "metadata": {},
       "output_type": "pyout",
       "prompt_number": 31,
       "text": [
        "'3.600e+06'"
       ]
      }
     ],
     "prompt_number": 31
    },
    {
     "cell_type": "code",
     "collapsed": false,
     "input": [
      "'%3.3e' % (.5 * 1.95E6)"
     ],
     "language": "python",
     "metadata": {},
     "outputs": [
      {
       "metadata": {},
       "output_type": "pyout",
       "prompt_number": 32,
       "text": [
        "'9.750e+05'"
       ]
      }
     ],
     "prompt_number": 32
    },
    {
     "cell_type": "code",
     "collapsed": false,
     "input": [
      "15.9994 + 1.0794 + 1.0794"
     ],
     "language": "python",
     "metadata": {},
     "outputs": [
      {
       "metadata": {},
       "output_type": "pyout",
       "prompt_number": 36,
       "text": [
        "18.1582"
       ]
      }
     ],
     "prompt_number": 36
    },
    {
     "cell_type": "code",
     "collapsed": false,
     "input": [
      "# C\n",
      "# N2, CO, H2O\n",
      "atoms = [9.750E5, 7.08E6, 3.6E6]\n",
      "molar_masses = [28.01348, 28.0101, 18.1582]\n",
      "\n",
      "for a, m in zip(atoms, molar_masses):\n",
      "    tot = mass(a, m)\n",
      "    print (tot * (10**6)) / (1.66 * 10 **(-24)) "
     ],
     "language": "python",
     "metadata": {},
     "outputs": [
      {
       "output_type": "stream",
       "stream": "stdout",
       "text": [
        "2.73226512826e+13\n",
        "1.98380544429e+14\n",
        "6.53922765122e+13\n"
       ]
      }
     ],
     "prompt_number": 56
    },
    {
     "cell_type": "code",
     "collapsed": false,
     "input": [
      "print ((6.53922E13 + 1.98380544429e+14 + 2.73226512826e+13) / rock_mass)"
     ],
     "language": "python",
     "metadata": {},
     "outputs": [
      {
       "output_type": "stream",
       "stream": "stdout",
       "text": [
        "1.5695043936\n"
       ]
      }
     ],
     "prompt_number": 57
    },
    {
     "cell_type": "code",
     "collapsed": false,
     "input": [
      "# C'\n",
      "# N2, CO, H2O\n",
      "atoms = [9.750E5, 7.08E6, 5.19E6]\n",
      "molar_masses = [28.01348, 28.0101, 18.1582]\n",
      "\n",
      "for a, m in zip(atoms, molar_masses):\n",
      "    tot = mass(a, m)\n",
      "    print (tot * (10**6)) / (1.66 * 10 **(-24)) "
     ],
     "language": "python",
     "metadata": {},
     "outputs": [
      {
       "output_type": "stream",
       "stream": "stdout",
       "text": [
        "2.73226512826e+13\n",
        "1.98380544429e+14\n",
        "9.42738653051e+13\n"
       ]
      }
     ],
     "prompt_number": 55
    },
    {
     "cell_type": "code",
     "collapsed": false,
     "input": [
      "print ((9.42738653051e+13) / rock_mass)"
     ],
     "language": "python",
     "metadata": {},
     "outputs": [
      {
       "output_type": "stream",
       "stream": "stdout",
       "text": [
        "0.508298131738\n"
       ]
      }
     ],
     "prompt_number": 60
    },
    {
     "cell_type": "code",
     "collapsed": false,
     "input": [
      "14.00674 + 3*(1.01794)"
     ],
     "language": "python",
     "metadata": {},
     "outputs": [
      {
       "metadata": {},
       "output_type": "pyout",
       "prompt_number": 45,
       "text": [
        "17.060560000000002"
       ]
      }
     ],
     "prompt_number": 45
    },
    {
     "cell_type": "code",
     "collapsed": false,
     "input": [
      "# D\n",
      "# H2O, CH4, NH3 \n",
      "atoms = [1.068E7, 7.08E6, 1.95E6]\n",
      "molar_masses = [18.1582, 16.0825, 17.06]\n",
      "\n",
      "for a, m in zip(atoms, molar_masses):\n",
      "    tot = mass(a, m)\n",
      "    print (tot * (10**6)) / (1.66 * 10 **(-24)) "
     ],
     "language": "python",
     "metadata": {},
     "outputs": [
      {
       "output_type": "stream",
       "stream": "stdout",
       "text": [
        "1.93997086986e+14\n",
        "1.13903738501e+14\n",
        "3.32785809462e+13\n"
       ]
      }
     ],
     "prompt_number": 46
    },
    {
     "cell_type": "code",
     "collapsed": false,
     "input": [
      "print ((1.93997086986e+14 + 1.13903738501e+14 + 3.32785809462e+13) / rock_mass)"
     ],
     "language": "python",
     "metadata": {},
     "outputs": [
      {
       "output_type": "stream",
       "stream": "stdout",
       "text": [
        "1.83954327444\n"
       ]
      }
     ],
     "prompt_number": 50
    },
    {
     "cell_type": "code",
     "collapsed": false,
     "input": [
      "# D'\n",
      "# H2O, CH4, NH3 \n",
      "atoms = [1.2278E7, 7.08E6, 1.95E6]\n",
      "molar_masses = [18.1582, 16.0825, 17.06]\n",
      "\n",
      "for a, m in zip(atoms, molar_masses):\n",
      "    tot = mass(a, m)\n",
      "    print (tot * (10**6)) / (1.66 * 10 **(-24)) "
     ],
     "language": "python",
     "metadata": {},
     "outputs": [
      {
       "output_type": "stream",
       "stream": "stdout",
       "text": [
        "2.23023991949e+14\n",
        "1.13903738501e+14\n",
        "3.32785809462e+13\n"
       ]
      }
     ],
     "prompt_number": 61
    },
    {
     "cell_type": "code",
     "collapsed": false,
     "input": [
      "print ((2.23023991949e+14) / rock_mass)"
     ],
     "language": "python",
     "metadata": {},
     "outputs": [
      {
       "output_type": "stream",
       "stream": "stdout",
       "text": [
        "1.2024825552\n"
       ]
      }
     ],
     "prompt_number": 64
    },
    {
     "cell_type": "code",
     "collapsed": false,
     "input": [
      "'%3.3e' % (1.227E7 - 7.08E6)"
     ],
     "language": "python",
     "metadata": {},
     "outputs": [
      {
       "metadata": {},
       "output_type": "pyout",
       "prompt_number": 54,
       "text": [
        "'5.190e+06'"
       ]
      }
     ],
     "prompt_number": 54
    },
    {
     "cell_type": "code",
     "collapsed": false,
     "input": [],
     "language": "python",
     "metadata": {},
     "outputs": [],
     "prompt_number": 54
    },
    {
     "cell_type": "code",
     "collapsed": false,
     "input": [],
     "language": "python",
     "metadata": {},
     "outputs": []
    }
   ],
   "metadata": {}
  }
 ]
}